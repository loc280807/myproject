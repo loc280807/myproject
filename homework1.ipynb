{
 "cells": [
  {
   "cell_type": "code",
   "execution_count": 1,
   "id": "aeaee9e8-212a-4c37-92a7-52dce8c8ed86",
   "metadata": {},
   "outputs": [
    {
     "name": "stdin",
     "output_type": "stream",
     "text": [
      " 5\n"
     ]
    },
    {
     "name": "stdout",
     "output_type": "stream",
     "text": [
      "10\n"
     ]
    }
   ],
   "source": [
    "#bai1\n",
    "n = int(input())\n",
    "print(2*n)"
   ]
  },
  {
   "cell_type": "code",
   "execution_count": 2,
   "id": "6ccd5f94-1daf-4fca-b8b3-46ebdd1ad116",
   "metadata": {},
   "outputs": [
    {
     "name": "stdin",
     "output_type": "stream",
     "text": [
      " 5 4 \n"
     ]
    },
    {
     "name": "stdout",
     "output_type": "stream",
     "text": [
      "0.38\n"
     ]
    }
   ],
   "source": [
    "#bai2\n",
    "line = input()\n",
    "a,b = map(float,line.split())\n",
    "S = a*b-3.14*(a/2)**2\n",
    "print(f'{S:.2f}')"
   ]
  },
  {
   "cell_type": "code",
   "execution_count": 10,
   "id": "f0d0b763-d58f-4550-a4d8-e36290d23616",
   "metadata": {},
   "outputs": [
    {
     "name": "stdin",
     "output_type": "stream",
     "text": [
      " 3 4 5\n"
     ]
    },
    {
     "name": "stdout",
     "output_type": "stream",
     "text": [
      "6.0\n"
     ]
    }
   ],
   "source": [
    "#bai6\n",
    "import math #gọi lệnh toán\n",
    "line = input()\n",
    "a,b,c = map(float, line.split())\n",
    "p = (a+b+c)/2\n",
    "if (p-a >0) and (p-b>0) and (p-c)>0:\n",
    "    S = math.sqrt(p * (p - a) * (p - b) * (p - c))\n",
    "    print(S)\n",
    "else:\n",
    "    print(\"ko ton tai tam giac\")"
   ]
  },
  {
   "cell_type": "code",
   "execution_count": 11,
   "id": "7cce44f8-d9b3-497b-8113-abe2f35f74f7",
   "metadata": {},
   "outputs": [
    {
     "name": "stdin",
     "output_type": "stream",
     "text": [
      " dvbjsdbvksdvlsdvlnksdvls\n"
     ]
    },
    {
     "name": "stdout",
     "output_type": "stream",
     "text": [
      "s\n",
      "k\n"
     ]
    }
   ],
   "source": [
    "#bai7\n",
    "chuoi = input()\n",
    "if len(chuoi) >= 20:\n",
    "    print(chuoi[4])\n",
    "    print(chuoi[8])\n",
    "else:\n",
    "    print(\"ko du do dai\")"
   ]
  },
  {
   "cell_type": "code",
   "execution_count": 17,
   "id": "028be6c9-eb8b-468a-82f4-e6745601eda2",
   "metadata": {},
   "outputs": [
    {
     "ename": "SyntaxError",
     "evalue": "invalid syntax. Maybe you meant '==' or ':=' instead of '='? (2710260385.py, line 5)",
     "output_type": "error",
     "traceback": [
      "  \u001b[36mCell\u001b[39m\u001b[36m \u001b[39m\u001b[32mIn[17]\u001b[39m\u001b[32m, line 5\u001b[39m\n\u001b[31m    \u001b[39m\u001b[31mif (0<= t1 - t2<= 50) and (x = 1984):\u001b[39m\n                               ^\n\u001b[31mSyntaxError\u001b[39m\u001b[31m:\u001b[39m invalid syntax. Maybe you meant '==' or ':=' instead of '='?\n"
     ]
    }
   ],
   "source": [
    "#bai8\n",
    "tenchuho = str(input())\n",
    "t1 = float(input())\n",
    "t2 = float(input())\n",
    "tien = ((t2 - t1)+(t2-t1)*8/100)*x\n",
    "if (0<= t1 - t2<= 50) and (x = 1984):\n",
    "    print(tien)"
   ]
  },
  {
   "cell_type": "code",
   "execution_count": 2,
   "id": "703f4a75-67ac-454f-9374-f331651fc672",
   "metadata": {},
   "outputs": [
    {
     "name": "stdin",
     "output_type": "stream",
     "text": [
      " 50\n"
     ]
    },
    {
     "name": "stdout",
     "output_type": "stream",
     "text": [
      "chan\n"
     ]
    }
   ],
   "source": [
    "#bai1.1\n",
    "n = int(input())\n",
    "if n%2 == 0:\n",
    "    print(\"chan\")\n",
    "else:\n",
    "    print(\"le\")"
   ]
  },
  {
   "cell_type": "code",
   "execution_count": 19,
   "id": "86860945-e152-4aa5-9713-8bba58dd9819",
   "metadata": {},
   "outputs": [
    {
     "name": "stdin",
     "output_type": "stream",
     "text": [
      " 30\n"
     ]
    },
    {
     "name": "stdout",
     "output_type": "stream",
     "text": [
      "false\n"
     ]
    }
   ],
   "source": [
    "#bai1.2\n",
    "n = int(input())\n",
    "if (n%5 ==0) and (n%10 !=0):\n",
    "    print(\"true\")\n",
    "else:\n",
    "    print(\"false\")"
   ]
  },
  {
   "cell_type": "code",
   "execution_count": 20,
   "id": "00ed40a1-86c1-4a00-9c0c-225a166923fc",
   "metadata": {},
   "outputs": [
    {
     "name": "stdin",
     "output_type": "stream",
     "text": [
      " 15\n"
     ]
    },
    {
     "name": "stdout",
     "output_type": "stream",
     "text": [
      "true\n"
     ]
    }
   ],
   "source": [
    "#bai1.3\n",
    "n = int(input())\n",
    "if n%15==0:\n",
    "    print(\"true\")\n",
    "else:\n",
    "    print(\"false\")"
   ]
  },
  {
   "cell_type": "code",
   "execution_count": 1,
   "id": "93400678-2cdc-4dfc-b574-1bd833de6e4c",
   "metadata": {},
   "outputs": [
    {
     "name": "stdin",
     "output_type": "stream",
     "text": [
      " 2020\n"
     ]
    },
    {
     "name": "stdout",
     "output_type": "stream",
     "text": [
      "ko du tuoi\n"
     ]
    }
   ],
   "source": [
    "#bai1.4\n",
    "n = int(input())\n",
    "if 2025 - n >= 18:\n",
    "    print(\"du tuoi\")\n",
    "else:\n",
    "    print(\"ko du tuoi\")\n"
   ]
  },
  {
   "cell_type": "code",
   "execution_count": 21,
   "id": "6b5f2d29-a327-40fc-ba8a-247f9d125543",
   "metadata": {},
   "outputs": [
    {
     "name": "stdin",
     "output_type": "stream",
     "text": [
      " 8 6\n"
     ]
    },
    {
     "name": "stdout",
     "output_type": "stream",
     "text": [
      "8.0\n"
     ]
    }
   ],
   "source": [
    "#bai1.5\n",
    "a, b = map(float, input().split())\n",
    "if a > b:\n",
    "    print(a)\n",
    "elif b > a:\n",
    "    print(b)\n",
    "else:\n",
    "    print(\"hai so bang nhau\")"
   ]
  },
  {
   "cell_type": "code",
   "execution_count": 45,
   "id": "584aa075-e45b-44bc-af1c-ec56f9d1abe1",
   "metadata": {},
   "outputs": [
    {
     "name": "stdin",
     "output_type": "stream",
     "text": [
      " 15.556\n"
     ]
    },
    {
     "name": "stdout",
     "output_type": "stream",
     "text": [
      "15.56\n"
     ]
    }
   ],
   "source": [
    "x= float(input())\n",
    "print(f'{x:.2f}')"
   ]
  },
  {
   "cell_type": "code",
   "execution_count": 46,
   "id": "f5f7fc86-1a06-49ae-8023-99908beba270",
   "metadata": {},
   "outputs": [
    {
     "name": "stdin",
     "output_type": "stream",
     "text": [
      " 5\n"
     ]
    },
    {
     "name": "stdout",
     "output_type": "stream",
     "text": [
      "qua mon\n"
     ]
    }
   ],
   "source": [
    "#bai1.10\n",
    "diem = float(input())\n",
    "if diem >= 4:\n",
    "    print(\"qua mon\")\n",
    "else:\n",
    "    print(\"hoc lai\")"
   ]
  },
  {
   "cell_type": "code",
   "execution_count": 47,
   "id": "0912c414-6b34-455e-86dd-8a707ce2318f",
   "metadata": {},
   "outputs": [
    {
     "name": "stdin",
     "output_type": "stream",
     "text": [
      " 2024\n"
     ]
    },
    {
     "name": "stdout",
     "output_type": "stream",
     "text": [
      "nam nhuan\n"
     ]
    }
   ],
   "source": [
    "nam = int(input())\n",
    "if nam%400==0 or (nam%4==0 and nam%100!=0):\n",
    "    print(\"nam nhuan\")\n",
    "else:\n",
    "    print(\"ko nhuan\")"
   ]
  },
  {
   "cell_type": "code",
   "execution_count": 72,
   "id": "6e1e465c-a350-4576-9eae-1595615529b2",
   "metadata": {},
   "outputs": [
    {
     "name": "stdin",
     "output_type": "stream",
     "text": [
      " 9\n"
     ]
    },
    {
     "name": "stdout",
     "output_type": "stream",
     "text": [
      "Chín\n"
     ]
    }
   ],
   "source": [
    "n = int(input())\n",
    "match n:\n",
    "    case 0: print(\"Không\")\n",
    "    case 1: print(\"Một\")\n",
    "    case 2: print(\"Hai\")\n",
    "    case 3: print(\"Ba\")\n",
    "    case 4: print(\"Bốn\")\n",
    "    case 5: print(\"Năm\")\n",
    "    case 6: print(\"Sáu\")\n",
    "    case 7: print(\"Bảy\")\n",
    "    case 8: print(\"Tám\")\n",
    "    case 9: print(\"Chín\")"
   ]
  },
  {
   "cell_type": "code",
   "execution_count": null,
   "id": "4a82a311-8657-459e-a2b2-7a3dd46c54da",
   "metadata": {},
   "outputs": [],
   "source": []
  }
 ],
 "metadata": {
  "kernelspec": {
   "display_name": "Python (myenv)",
   "language": "python",
   "name": "myenv"
  },
  "language_info": {
   "codemirror_mode": {
    "name": "ipython",
    "version": 3
   },
   "file_extension": ".py",
   "mimetype": "text/x-python",
   "name": "python",
   "nbconvert_exporter": "python",
   "pygments_lexer": "ipython3",
   "version": "3.12.3"
  }
 },
 "nbformat": 4,
 "nbformat_minor": 5
}
