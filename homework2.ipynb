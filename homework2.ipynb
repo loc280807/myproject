{
 "cells": [
  {
   "cell_type": "code",
   "execution_count": 1,
   "id": "a8fc8ffb-962c-4f4e-8683-44c30ef1d032",
   "metadata": {},
   "outputs": [
    {
     "name": "stdout",
     "output_type": "stream",
     "text": [
      " 5\n",
      " 6\n"
     ]
    },
    {
     "name": "stdout",
     "output_type": "stream",
     "text": [
      "Dien tich 30.0\n",
      "Chu vi 22.0\n"
     ]
    }
   ],
   "source": [
    "#1\n",
    "d = float(input())\n",
    "r = float(input())\n",
    "S = d*r\n",
    "P = (d+r)*2\n",
    "print(\"Dien tich\", S)\n",
    "print(\"Chu vi\", P)"
   ]
  },
  {
   "cell_type": "code",
   "execution_count": 11,
   "id": "b1e8b591-35fc-473d-8456-8ae4ef211994",
   "metadata": {},
   "outputs": [
    {
     "name": "stdout",
     "output_type": "stream",
     "text": [
      " 6\n"
     ]
    },
    {
     "name": "stdout",
     "output_type": "stream",
     "text": [
      "Dien tich: 113.09733552923255 \n",
      "Chu vi: 37.69911184307752\n"
     ]
    }
   ],
   "source": [
    "#2\n",
    "import math\n",
    "r = float(input())\n",
    "S = math.pi*r**2\n",
    "P = math.pi*r*2\n",
    "print(\"Dien tich:\", S ,\"\\nChu vi:\", P)"
   ]
  },
  {
   "cell_type": "code",
   "execution_count": 6,
   "id": "7443ee77-af16-4b3f-a0c2-b048af0b0a26",
   "metadata": {},
   "outputs": [
    {
     "name": "stdout",
     "output_type": "stream",
     "text": [
      " 3 4 5\n"
     ]
    },
    {
     "name": "stdout",
     "output_type": "stream",
     "text": [
      "tam giac vuong\n",
      "18.0\n"
     ]
    }
   ],
   "source": [
    "#3\n",
    "a, b, c = map(float, input().split())\n",
    "p = (a+b+c)/2\n",
    "if (a+b-c>0) and (b+c-a>0) and (c+a-b>0):\n",
    "    if a == b == c:\n",
    "        print(\"tam giac deu\")\n",
    "        print(((p-a)*(p-b)*(p-c)*p)**1/2)\n",
    "    elif (a == b !=c) and (b == c !=a) and (c ==a !=b):\n",
    "        print(\"tam giac can\")\n",
    "        print(((p-a)*(p-b)*(p-c)*p)**1/2)\n",
    "    elif (a**2 +b**2== c**2) or (b**2 + c**2== a**2) or (c**2 +a**2== b**2):\n",
    "        print(\"tam giac vuong\")\n",
    "        print(((p-a)*(p-b)*(p-c)*p)**1/2)\n",
    "    else:\n",
    "        print(\"tam giac thuong\")\n",
    "        print(((p-a)*(p-b)*(p-c)*p)**1/2)\n",
    "else:\n",
    "    print(\"ko ton tai tam giac\")"
   ]
  },
  {
   "cell_type": "code",
   "execution_count": 8,
   "id": "0fd71df1-d172-43a7-b0be-c1d824fdf211",
   "metadata": {},
   "outputs": [
    {
     "name": "stdout",
     "output_type": "stream",
     "text": [
      " 5 4\n"
     ]
    },
    {
     "name": "stdout",
     "output_type": "stream",
     "text": [
      "-0.8\n"
     ]
    }
   ],
   "source": [
    "#4\n",
    "a, b = map(float, input().split())\n",
    "if a == 0:\n",
    "    if b == 0:\n",
    "        print(\"phuong trình vo so nghiem\")\n",
    "    else:\n",
    "        print(\"phuong trinh nghiem\")\n",
    "else:\n",
    "    x = -b/a\n",
    "    print(x)"
   ]
  },
  {
   "cell_type": "code",
   "execution_count": null,
   "id": "e19dd517-01a9-45f4-8571-e781856ee714",
   "metadata": {},
   "outputs": [
    {
     "name": "stdout",
     "output_type": "stream",
     "text": [
      " 1 -2 1\n"
     ]
    },
    {
     "name": "stdout",
     "output_type": "stream",
     "text": [
      "1.0 1.0\n"
     ]
    }
   ],
   "source": [
    "#5\n",
    "a, b, c= map(float, input().split())\n",
    "if a != 0:\n",
    "    delta = b**2 - 4*a*c\n",
    "    if delta >=0:\n",
    "        x1 = (-b+delta**(1/2))/(2*a)\n",
    "        x2 = (-b-delta**(1/2))/(2*a)\n",
    "        print(x1, x2)\n",
    "    else:\n",
    "        print(\"phuong trinh vo nghiem\")\n",
    "else:\n",
    "    print(\"ko phai phuong trinh bac 2\")"
   ]
  },
  {
   "cell_type": "code",
   "execution_count": 15,
   "id": "1b991f44-a6e8-4e17-9ba0-ba3f37f69315",
   "metadata": {},
   "outputs": [
    {
     "name": "stdout",
     "output_type": "stream",
     "text": [
      " 5 10 4 8\n"
     ]
    },
    {
     "name": "stdout",
     "output_type": "stream",
     "text": [
      "gia tri lon nhat 10.0\n"
     ]
    }
   ],
   "source": [
    "#6\n",
    "a, b, c, d= map(float, input().split())\n",
    "dayso = [a,b,c,d]\n",
    "max_day = dayso[0]\n",
    "for n in dayso:\n",
    "  if n > max_day:\n",
    "    max_day = n\n",
    "print(\"gia tri lon nhat\", max_day)"
   ]
  },
  {
   "cell_type": "code",
   "execution_count": 1,
   "id": "3b16d43e-7634-4ca0-84a6-db2479b2a728",
   "metadata": {},
   "outputs": [
    {
     "name": "stdout",
     "output_type": "stream",
     "text": [
      "gia tri nho nhat 7.0\n"
     ]
    }
   ],
   "source": [
    "#7\n",
    "a, b, c, d= map(float, input().split())\n",
    "dayso = [a,b,c,d]\n",
    "min_day = dayso[0]\n",
    "for n in dayso: \n",
    "  if n < min_day:\n",
    "    min_day = n\n",
    "print(\"gia tri nho nhat\", min_day)"
   ]
  },
  {
   "cell_type": "code",
   "execution_count": 1,
   "id": "3126587d",
   "metadata": {},
   "outputs": [
    {
     "name": "stdin",
     "output_type": "stream",
     "text": [
      " 4 5 6\n",
      " 7 8 6\n"
     ]
    },
    {
     "name": "stdout",
     "output_type": "stream",
     "text": [
      "-6.0 6.0\n"
     ]
    }
   ],
   "source": [
    "a,b,m = map(float,input().split())\n",
    "c,d,n = map(float, input().split())\n"
   ]
  },
  {
   "cell_type": "code",
   "execution_count": null,
   "id": "6b8e1254-9bbe-4539-bb5d-9308d6322060",
   "metadata": {},
   "outputs": [],
   "source": []
  }
 ],
 "metadata": {
  "kernelspec": {
   "display_name": "Python (myenv)",
   "language": "python",
   "name": "myenv"
  },
  "language_info": {
   "codemirror_mode": {
    "name": "ipython",
    "version": 3
   },
   "file_extension": ".py",
   "mimetype": "text/x-python",
   "name": "python",
   "nbconvert_exporter": "python",
   "pygments_lexer": "ipython3",
   "version": "3.12.3"
  }
 },
 "nbformat": 4,
 "nbformat_minor": 5
}
