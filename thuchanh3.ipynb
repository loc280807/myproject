{
 "cells": [
  {
   "cell_type": "code",
   "execution_count": 1,
   "id": "2d51821b-ae2a-4fa6-8be3-1ffa467b365c",
   "metadata": {},
   "outputs": [
    {
     "name": "stdout",
     "output_type": "stream",
     "text": [
      "6 5\n"
     ]
    }
   ],
   "source": [
    "x = 5 \n",
    "y = 6 \n",
    "\n",
    "x = x^y\n",
    "y= y^x\n",
    "x = x^y\n",
    "print(x,y)"
   ]
  },
  {
   "cell_type": "code",
   "execution_count": 1,
   "id": "01ccc05c-583a-4bef-8c30-18174a50b0b7",
   "metadata": {},
   "outputs": [
    {
     "name": "stdin",
     "output_type": "stream",
     "text": [
      "Nhập số n:  4\n"
     ]
    },
    {
     "name": "stdout",
     "output_type": "stream",
     "text": [
      "4 là lũy thừa của 2\n"
     ]
    }
   ],
   "source": [
    "n=int(input(\"Nhập số n: \"))\n",
    "if n>0 and (n&(n-1))==0:\n",
    "    print(n, \"là lũy thừa của 2\")\n",
    "else:\n",
    "    print(n, \"không phải là lũy thừa của 2\")"
   ]
  },
  {
   "cell_type": "code",
   "execution_count": null,
   "id": "c4ae6e47-f9dd-4dfc-9d59-21be2e4d63fe",
   "metadata": {},
   "outputs": [],
   "source": []
  }
 ],
 "metadata": {
  "kernelspec": {
   "display_name": "Python (myenv)",
   "language": "python",
   "name": "myenv"
  },
  "language_info": {
   "codemirror_mode": {
    "name": "ipython",
    "version": 3
   },
   "file_extension": ".py",
   "mimetype": "text/x-python",
   "name": "python",
   "nbconvert_exporter": "python",
   "pygments_lexer": "ipython3",
   "version": "3.12.3"
  }
 },
 "nbformat": 4,
 "nbformat_minor": 5
}
