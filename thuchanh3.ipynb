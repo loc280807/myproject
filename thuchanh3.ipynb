{
 "cells": [
  {
   "cell_type": "code",
   "execution_count": 1,
   "id": "2d51821b-ae2a-4fa6-8be3-1ffa467b365c",
   "metadata": {},
   "outputs": [
    {
     "name": "stdout",
     "output_type": "stream",
     "text": [
      "6 5\n"
     ]
    }
   ],
   "source": [
    "x = 5 \n",
    "y = 6 \n",
    "\n",
    "x = x^y\n",
    "y= y^x\n",
    "x = x^y\n",
    "print(x,y)"
   ]
  },
  {
   "cell_type": "code",
   "execution_count": 3,
   "id": "01ccc05c-583a-4bef-8c30-18174a50b0b7",
   "metadata": {},
   "outputs": [
    {
     "name": "stdin",
     "output_type": "stream",
     "text": [
      "Nhập số n:  5\n"
     ]
    },
    {
     "name": "stdout",
     "output_type": "stream",
     "text": [
      "5 không phải là lũy thừa của 2\n"
     ]
    }
   ],
   "source": [
    "n=int(input(\"Nhập số n: \"))\n",
    "if n>0 and (n&(n-1))==0:\n",
    "    print(n, \"là lũy thừa của 2\")\n",
    "else:\n",
    "    print(n, \"không phải là lũy thừa của 2\")"
   ]
  },
  {
   "cell_type": "code",
   "execution_count": 5,
   "id": "2cb5a1b5-ae59-49d7-b3ae-640103d33072",
   "metadata": {},
   "outputs": [
    {
     "name": "stdin",
     "output_type": "stream",
     "text": [
      " 8\n"
     ]
    },
    {
     "name": "stdout",
     "output_type": "stream",
     "text": [
      "even\n"
     ]
    }
   ],
   "source": [
    "n = int(input())\n",
    "if n > 0:\n",
    "    if n%2 == 0:\n",
    "        print(\"even\")\n",
    "    else:\n",
    "        print(\"odd\")\n",
    "else:\n",
    "    print(n,\"la so am\")"
   ]
  },
  {
   "cell_type": "code",
   "execution_count": 11,
   "id": "9e3e7431-65b3-4727-8f21-c63ea529f949",
   "metadata": {},
   "outputs": [
    {
     "name": "stdin",
     "output_type": "stream",
     "text": [
      " mvdfkbvdfknb\n",
      " sfdbvidkfbndK\n"
     ]
    },
    {
     "name": "stdout",
     "output_type": "stream",
     "text": [
      "ko phai chuoi chu cai in thuong\n"
     ]
    }
   ],
   "source": [
    "a = input()\n",
    "b = input()\n",
    "if a.islower() and b.islower() and a.isalpha() and b.isalpha():\n",
    "    if a <=0 and b<= 0:\n",
    "        print(\"yes\")\n",
    "    else:\n",
    "       print(\"no\")\n",
    "else:\n",
    "    print(\"ko phai chuoi chu cai in thuong\")"
   ]
  },
  {
   "cell_type": "code",
   "execution_count": 12,
   "id": "54c320e8-7055-4d4e-be5f-64270eb12e24",
   "metadata": {},
   "outputs": [
    {
     "name": "stdin",
     "output_type": "stream",
     "text": [
      " 7 8 9 \n"
     ]
    },
    {
     "name": "stdout",
     "output_type": "stream",
     "text": [
      "yes\n"
     ]
    }
   ],
   "source": [
    "a,b,c = map(int, input().split())\n",
    "if a>0 and b>0 and c>0 and a+b>c and b+c>a and c+a>b:\n",
    "    print(\"yes\")\n",
    "else:\n",
    "    print(\"no\")\n",
    "    "
   ]
  },
  {
   "cell_type": "code",
   "execution_count": 16,
   "id": "8706bd79-1d23-4b4d-9106-616f26a03d03",
   "metadata": {},
   "outputs": [
    {
     "name": "stdin",
     "output_type": "stream",
     "text": [
      "  7 8 9 10\n"
     ]
    },
    {
     "name": "stdout",
     "output_type": "stream",
     "text": [
      "10\n"
     ]
    }
   ],
   "source": [
    "a,b,c,d = map(int, input().split())\n",
    "chuoi = [a,b,c,d]\n",
    "max_chuoi = chuoi[0]\n",
    "for i in chuoi:\n",
    "    if i > max_chuoi:\n",
    "        max_chuoi = i\n",
    "print(i)"
   ]
  },
  {
   "cell_type": "code",
   "execution_count": 1,
   "id": "0774c29b-a833-4375-a554-3977c85f59b0",
   "metadata": {},
   "outputs": [
    {
     "name": "stdin",
     "output_type": "stream",
     "text": [
      " 6 5 7\n"
     ]
    },
    {
     "name": "stdout",
     "output_type": "stream",
     "text": [
      "tam giac thuong\n"
     ]
    }
   ],
   "source": [
    "a,b,c =map(int,input().split())\n",
    "if a>0 and b>0 and c>0 and a+b>c and b+c>a and c+a>b:\n",
    "    if a==b==c:\n",
    "        print(\"tam giac deu\")\n",
    "    elif a==b or b==c or c==a:\n",
    "        print(\"tam giac can\")\n",
    "    else:\n",
    "        print(\"tam giac thuong\")\n",
    "else:\n",
    "    print(\"ko phai tam giac\")"
   ]
  },
  {
   "cell_type": "code",
   "execution_count": 2,
   "id": "f13a423b-b4e9-4d89-b6ca-0ba57b98992e",
   "metadata": {},
   "outputs": [
    {
     "name": "stdin",
     "output_type": "stream",
     "text": [
      " 2024\n"
     ]
    },
    {
     "name": "stdout",
     "output_type": "stream",
     "text": [
      "yes\n"
     ]
    }
   ],
   "source": [
    "nam = int(input())\n",
    "if nam%400==0 or (nam%4==0 and nam%100!=0):\n",
    "    print(\"yes\")\n",
    "else:\n",
    "    print(\"no\")"
   ]
  },
  {
   "cell_type": "code",
   "execution_count": 11,
   "id": "02680ddc-8683-49e5-8965-92fc5cf9d684",
   "metadata": {},
   "outputs": [
    {
     "name": "stdin",
     "output_type": "stream",
     "text": [
      " 3 10\n"
     ]
    },
    {
     "name": "stdout",
     "output_type": "stream",
     "text": [
      "-3.33\n"
     ]
    }
   ],
   "source": [
    "a,b = map(float, input().split())\n",
    "if a == b == 0:\n",
    "    print(\"pt vo so nghiem\")\n",
    "elif a==0 and b != 0:\n",
    "    print(\"pt vo nghiem\")\n",
    "else: \n",
    "    x = -b/a\n",
    "    print(f'{x:.2f}')"
   ]
  },
  {
   "cell_type": "code",
   "execution_count": 30,
   "id": "52f93d51-6bb4-4e10-9e52-797b9084c893",
   "metadata": {},
   "outputs": [
    {
     "name": "stdin",
     "output_type": "stream",
     "text": [
      " -8.9\n",
      " 10\n"
     ]
    },
    {
     "name": "stdout",
     "output_type": "stream",
     "text": [
      "-9 -8 "
     ]
    }
   ],
   "source": [
    "a = float(input())\n",
    "n = int(input())\n",
    "if n > 0 and -n <= a <= n:\n",
    "    for i in range(-n-1, n+1):\n",
    "        if abs(i-a) < 1:\n",
    "            print(i, end=\" \")\n",
    "else:\n",
    "    print(\"nhap lai\")"
   ]
  },
  {
   "cell_type": "code",
   "execution_count": null,
   "id": "8f181f2e-5c23-470e-99d8-4c6ce337f36c",
   "metadata": {},
   "outputs": [],
   "source": []
  }
 ],
 "metadata": {
  "kernelspec": {
   "display_name": "Python (myenv)",
   "language": "python",
   "name": "myenv"
  },
  "language_info": {
   "codemirror_mode": {
    "name": "ipython",
    "version": 3
   },
   "file_extension": ".py",
   "mimetype": "text/x-python",
   "name": "python",
   "nbconvert_exporter": "python",
   "pygments_lexer": "ipython3",
   "version": "3.12.3"
  }
 },
 "nbformat": 4,
 "nbformat_minor": 5
}
