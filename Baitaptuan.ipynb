{
 "cells": [
  {
   "cell_type": "code",
   "execution_count": 1,
   "id": "dd764935-b35d-4065-a430-fc079e9b516b",
   "metadata": {},
   "outputs": [
    {
     "name": "stdin",
     "output_type": "stream",
     "text": [
      "Nhập số m:  5 \n",
      "Nhập số n:  2\n"
     ]
    },
    {
     "name": "stdout",
     "output_type": "stream",
     "text": [
      "Kết quả của 5 chia cho 2 là: 2\n"
     ]
    }
   ],
   "source": [
    "# Hàm chia m cho n và làm tròn xuống\n",
    "def chia_va_lam_tron(m, n):\n",
    "    if n == 0:\n",
    "        return \"Lỗi: Không thể chia cho 0\"\n",
    "    return m // n\n",
    "\n",
    "# Nhập m và n từ người dùng\n",
    "m = int(input(\"Nhập số m: \"))\n",
    "n = int(input(\"Nhập số n: \"))\n",
    "\n",
    "# In kết quả chia và làm tròn\n",
    "result = chia_va_lam_tron(m, n)\n",
    "print(f\"Kết quả của {m} chia cho {n} là: {result}\")"
   ]
  },
  {
   "cell_type": "code",
   "execution_count": null,
   "id": "b8350c19-1a2e-4e05-9675-84d6585d2dd7",
   "metadata": {},
   "outputs": [],
   "source": []
  }
 ],
 "metadata": {
  "kernelspec": {
   "display_name": "Python (myenv)",
   "language": "python",
   "name": "myenv"
  },
  "language_info": {
   "codemirror_mode": {
    "name": "ipython",
    "version": 3
   },
   "file_extension": ".py",
   "mimetype": "text/x-python",
   "name": "python",
   "nbconvert_exporter": "python",
   "pygments_lexer": "ipython3",
   "version": "3.12.3"
  }
 },
 "nbformat": 4,
 "nbformat_minor": 5
}
